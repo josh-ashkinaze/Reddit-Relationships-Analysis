{
  "nbformat": 4,
  "nbformat_minor": 0,
  "metadata": {
    "colab": {
      "name": "Copy of RedditScraper_NoCommentsipynb",
      "version": "0.3.2",
      "provenance": [],
      "collapsed_sections": [],
      "include_colab_link": true
    },
    "kernelspec": {
      "name": "python3",
      "display_name": "Python 3"
    }
  },
  "cells": [
    {
      "cell_type": "markdown",
      "metadata": {
        "id": "view-in-github",
        "colab_type": "text"
      },
      "source": [
        "<a href=\"https://colab.research.google.com/github/josh-ashkinaze/reddit_rship_advice/blob/master/test.ipynb\" target=\"_parent\"><img src=\"https://colab.research.google.com/assets/colab-badge.svg\" alt=\"Open In Colab\"/></a>"
      ]
    },
    {
      "cell_type": "markdown",
      "metadata": {
        "id": "VTBBFay7eNyh",
        "colab_type": "text"
      },
      "source": [
        "# New Analysis: GET Data"
      ]
    },
    {
      "cell_type": "code",
      "metadata": {
        "id": "Rk6wAja_eaur",
        "colab_type": "code",
        "outputId": "c36ca278-5840-43ae-b1f8-7ba0b32690fb",
        "colab": {
          "base_uri": "https://localhost:8080/",
          "height": 85
        }
      },
      "source": [
        "!pip install praw \n",
        "!pip install sklearn \n",
        "\n",
        "\n",
        "\n",
        "import praw \n",
        "import pandas as pd\n",
        "from google.colab import files\n",
        "from IPython.display import display, clear_output \n",
        "import warnings\n",
        "\n",
        "\n",
        "\n",
        "CLIENT_ID = 'LrnElYx-o4jf8g'\n",
        "SECRET_ID = 'UERC-XdvxAeVWjdPi3vro8CE8o4'\n",
        "PW = 'elasticmind'\n",
        "USERNAME = 't3cblaze'\n",
        "reddit = praw.Reddit(\n",
        "                     client_id=CLIENT_ID,\n",
        "                     client_secret= SECRET_ID,\n",
        "                     password=PW,\n",
        "                     user_agent='testscript by /u/fakebot3',\n",
        "                     username=USERNAME\n",
        "                     )\n",
        "\n",
        "def config():\n",
        "  warnings.filterwarnings(\"ignore\", category=DeprecationWarning)\n",
        "  clear_output()\n",
        "\n",
        "def generate_posts(subreddit, nposts):\n",
        "  sample = []\n",
        "  sub = reddit.subreddit(subreddit)\n",
        "  for i in range(nposts):\n",
        "    random_post = sub.random()\n",
        "    sample.append(random_post)\n",
        "    print(i)\n",
        "  return sample\n",
        "  \n",
        "def parse_submissions(submissions, comment_limit): \n",
        "  submission_count = 0\n",
        "  all_post_data = []\n",
        "  added_posts = []\n",
        "  for post in submissions:\n",
        "    if not(already_added(added_posts, post.title)):\n",
        "      post_data = get_post_data(post, comment_limit)\n",
        "      all_post_data.append(post_data)\n",
        "      submission_count+=1\n",
        "      print(\"POST {} OF MAX: {}\".format(submission_count, len(submissions)))\n",
        "  return all_post_data\n",
        "\n",
        "\n",
        "# Check if item in list and update list if not\n",
        "def already_added(added_list, item):\n",
        "  if item in added_list:\n",
        "    return True\n",
        "  else: \n",
        "    added_list.append(item)\n",
        "    return False\n",
        "\n",
        "# Returns comments of post of level <= comment_limit\n",
        "def get_post_comments(post, comment_limit):\n",
        "  post.comments.replace_more(limit=comment_limit)\n",
        "  comments = [comment.body.strip(\"[\").strip(\"]\") for comment in post.comments.list()]\n",
        "  return comments\n",
        "\n",
        "# Returns info about a post \n",
        "def get_post_data(post, comment_limit):\n",
        "  post_info = {\n",
        "    \"title\": post.title,\n",
        "    \"flair\": post.link_flair_text\t,\n",
        "    \"post_id\": post.id,\n",
        "    'self_txt' : post.selftext,\n",
        "    \"score\": post.score,\n",
        "    \"upvote_ratio\": post.upvote_ratio,\n",
        "    \"num_comments\" : post.num_comments,\n",
        "#     \"comments\": get_post_comments(post, comment_limit)\n",
        "  }\n",
        "  return post_info\n",
        "\n",
        "\n",
        "\n",
        "def main():\n",
        "  config()\n",
        "  sample = generate_posts('relationship_advice', 2)\n",
        "  post_data = parse_submissions(sample, 1)\n",
        "  df = pd.DataFrame(post_data)\n",
        "  df.to_csv(\"data9.csv\")\n",
        "  files.download(\"data9.csv\")\n",
        "  \n",
        "\n",
        " \n",
        "  \n",
        "main()"
      ],
      "execution_count": 0,
      "outputs": [
        {
          "output_type": "stream",
          "text": [
            "0\n",
            "1\n",
            "POST 1 OF MAX: 2\n",
            "POST 2 OF MAX: 2\n"
          ],
          "name": "stdout"
        }
      ]
    },
    {
      "cell_type": "markdown",
      "metadata": {
        "id": "-WwcWGhvwQ0g",
        "colab_type": "text"
      },
      "source": [
        "# New Analysis: Analyze"
      ]
    },
    {
      "cell_type": "code",
      "metadata": {
        "id": "kwU8DpX6wu1W",
        "colab_type": "code",
        "outputId": "d5420ba0-f68a-455b-ee76-9ebc4e7bba3a",
        "colab": {
          "resources": {
            "http://localhost:8080/nbextensions/google.colab/files.js": {
              "data": "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",
              "ok": true,
              "headers": [
                [
                  "content-type",
                  "application/javascript"
                ]
              ],
              "status": 200,
              "status_text": ""
            }
          },
          "base_uri": "https://localhost:8080/",
          "height": 73
        }
      },
      "source": [
        "from google.colab import files\n",
        "d5 = files.upload()\n"
      ],
      "execution_count": 3,
      "outputs": [
        {
          "output_type": "display_data",
          "data": {
            "text/html": [
              "\n",
              "     <input type=\"file\" id=\"files-09f4c378-a748-49ad-8f85-53c2fd733431\" name=\"files[]\" multiple disabled />\n",
              "     <output id=\"result-09f4c378-a748-49ad-8f85-53c2fd733431\">\n",
              "      Upload widget is only available when the cell has been executed in the\n",
              "      current browser session. Please rerun this cell to enable.\n",
              "      </output>\n",
              "      <script src=\"/nbextensions/google.colab/files.js\"></script> "
            ],
            "text/plain": [
              "<IPython.core.display.HTML object>"
            ]
          },
          "metadata": {
            "tags": []
          }
        },
        {
          "output_type": "stream",
          "text": [
            "Saving rship.csv to rship.csv\n"
          ],
          "name": "stdout"
        }
      ]
    },
    {
      "cell_type": "code",
      "metadata": {
        "id": "KhOeXgkhG39h",
        "colab_type": "code",
        "outputId": "56d2d928-7504-4150-ecff-95bd9dad9584",
        "colab": {
          "base_uri": "https://localhost:8080/",
          "height": 442
        }
      },
      "source": [
        "\n",
        "!pip install ekphrasis\n",
        "!pip install textblob\n",
        "!pip install contractions\n",
        "\n",
        "# Utilities \n",
        "import re\n",
        "import string \n",
        "from IPython.display import display, clear_output\n",
        "\n",
        "# NLP Libraries \n",
        "import contractions\n",
        "from ekphrasis.classes.spellcorrect import SpellCorrector\n",
        "import nltk\n",
        "from nltk.tokenize import word_tokenize\n",
        "from nltk.corpus import stopwords\n",
        "from sklearn.decomposition import NMF, LatentDirichletAllocation\n",
        "\n",
        "from sklearn.feature_extraction.text import TfidfVectorizer\n",
        "from sklearn.datasets import fetch_20newsgroups\n",
        "from textblob import TextBlob\n",
        "\n",
        "# Data Handling \n",
        "import pandas as pd\n",
        "\n",
        "\n",
        "\n",
        "\n",
        "nltk.download(\"stopwords\")\n",
        "nltk.download('punkt')"
      ],
      "execution_count": 0,
      "outputs": [
        {
          "output_type": "stream",
          "text": [
            "Requirement already satisfied: ekphrasis in /usr/local/lib/python3.6/dist-packages (0.5.1)\n",
            "Requirement already satisfied: numpy in /usr/local/lib/python3.6/dist-packages (from ekphrasis) (1.16.4)\n",
            "Requirement already satisfied: matplotlib in /usr/local/lib/python3.6/dist-packages (from ekphrasis) (3.0.3)\n",
            "Requirement already satisfied: nltk in /usr/local/lib/python3.6/dist-packages (from ekphrasis) (3.2.5)\n",
            "Requirement already satisfied: ftfy in /usr/local/lib/python3.6/dist-packages (from ekphrasis) (5.5.1)\n",
            "Requirement already satisfied: ujson in /usr/local/lib/python3.6/dist-packages (from ekphrasis) (1.35)\n",
            "Requirement already satisfied: colorama in /usr/local/lib/python3.6/dist-packages (from ekphrasis) (0.4.1)\n",
            "Requirement already satisfied: termcolor in /usr/local/lib/python3.6/dist-packages (from ekphrasis) (1.1.0)\n",
            "Requirement already satisfied: tqdm in /usr/local/lib/python3.6/dist-packages (from ekphrasis) (4.28.1)\n",
            "Requirement already satisfied: pyparsing!=2.0.4,!=2.1.2,!=2.1.6,>=2.0.1 in /usr/local/lib/python3.6/dist-packages (from matplotlib->ekphrasis) (2.4.0)\n",
            "Requirement already satisfied: cycler>=0.10 in /usr/local/lib/python3.6/dist-packages (from matplotlib->ekphrasis) (0.10.0)\n",
            "Requirement already satisfied: kiwisolver>=1.0.1 in /usr/local/lib/python3.6/dist-packages (from matplotlib->ekphrasis) (1.1.0)\n",
            "Requirement already satisfied: python-dateutil>=2.1 in /usr/local/lib/python3.6/dist-packages (from matplotlib->ekphrasis) (2.5.3)\n",
            "Requirement already satisfied: six in /usr/local/lib/python3.6/dist-packages (from nltk->ekphrasis) (1.12.0)\n",
            "Requirement already satisfied: wcwidth in /usr/local/lib/python3.6/dist-packages (from ftfy->ekphrasis) (0.1.7)\n",
            "Requirement already satisfied: setuptools in /usr/local/lib/python3.6/dist-packages (from kiwisolver>=1.0.1->matplotlib->ekphrasis) (41.0.1)\n",
            "Requirement already satisfied: textblob in /usr/local/lib/python3.6/dist-packages (0.15.3)\n",
            "Requirement already satisfied: nltk>=3.1 in /usr/local/lib/python3.6/dist-packages (from textblob) (3.2.5)\n",
            "Requirement already satisfied: six in /usr/local/lib/python3.6/dist-packages (from nltk>=3.1->textblob) (1.12.0)\n",
            "Requirement already satisfied: contractions in /usr/local/lib/python3.6/dist-packages (0.0.18)\n",
            "[nltk_data] Downloading package stopwords to /root/nltk_data...\n",
            "[nltk_data]   Package stopwords is already up-to-date!\n",
            "[nltk_data] Downloading package punkt to /root/nltk_data...\n",
            "[nltk_data]   Package punkt is already up-to-date!\n"
          ],
          "name": "stdout"
        },
        {
          "output_type": "execute_result",
          "data": {
            "text/plain": [
              "True"
            ]
          },
          "metadata": {
            "tags": []
          },
          "execution_count": 10
        }
      ]
    },
    {
      "cell_type": "code",
      "metadata": {
        "id": "x8_Mzz0ck7-Y",
        "colab_type": "code",
        "colab": {}
      },
      "source": [
        "\n",
        "!pip install ekphrasis\n",
        "!pip install textblob\n",
        "!pip install contractions\n",
        "\n",
        "# Utilities \n",
        "import re\n",
        "import string \n",
        "from IPython.display import display, clear_output\n",
        "import numpy as np\n",
        "\n",
        "# NLP Libraries \n",
        "import contractions\n",
        "import nltk\n",
        "from nltk.tokenize import word_tokenize\n",
        "from nltk.corpus import stopwords\n",
        "from sklearn.decomposition import NMF\n",
        "from sklearn.feature_extraction.text import TfidfVectorizer\n",
        "from sklearn.model_selection import GridSearchCV\n",
        "from sklearn.pipeline import Pipeline\n",
        "from textblob import TextBlob\n",
        "\n",
        "# Data Handling \n",
        "import pandas as pd\n",
        "\n",
        "\n",
        "\n",
        "\n",
        "nltk.download(\"stopwords\")\n",
        "nltk.download('punkt')\n",
        "\n",
        "\n",
        "# Print results of topic analysis \n",
        "def display_topics(H, W, feature_names, documents, no_top_words, no_top_documents):\n",
        "  for topic_idx, topic in enumerate(H):\n",
        "      print (\"Topic {}: \".format(topic_idx)  + \",\".join([feature_names[i] for i in topic.argsort()[:-no_top_words - 1:-1]]))\n",
        "      top_doc_indices = np.argsort( W[:,topic_idx] )[::-1][0:no_top_documents]\n",
        "      for idx in top_doc_indices:\n",
        "          print (documents[idx])\n",
        "      print()\n",
        "\n",
        "            \n",
        "# Build a topic analysis model \n",
        "def make_topics(documents, clean_docs):\n",
        "  \n",
        "  no_topics = 4 # hypothesized latent topics \n",
        "  no_top_words = 7 # number of sample words per topic \n",
        "  no_top_documents = 4 # number of docs to print per topic \n",
        "\n",
        "  # Fit a TFIDF vectorizer \n",
        "  tfidf_vectorizer = TfidfVectorizer(max_df=0.95, min_df=2, stop_words='english', ngram_range = (1, 1))\n",
        "  tfidf = tfidf_vectorizer.fit_transform(clean_docs)\n",
        "  tfidf_feature_names = tfidf_vectorizer.get_feature_names()\n",
        "\n",
        "  # Run NMF\n",
        "  nmf_model = NMF(n_components=no_topics, random_state=1, alpha=0.01,l1_ratio=0.5, init='nndsvd').fit(tfidf)\n",
        "  nmf_W = nmf_model.transform(tfidf)\n",
        "  print(pd.DataFrame(nmf_W))\n",
        "  nmf_H = nmf_model.components_\n",
        "\n",
        "  # Display topics \n",
        "  display_topics(nmf_H, nmf_W, tfidf_feature_names, documents, no_top_words, no_top_documents)\n",
        "  return nmf_H, nmf_W\n",
        "\n",
        "\n",
        "\n",
        "# Returns a tokenized form of a string \n",
        "def tokenize(text):\n",
        "  custom_sw = {\"feel\", 'im'}\n",
        "  stop_words = set(stopwords.words(\"english\")).union(custom_sw)\n",
        "  nltk_tokenizer = nltk.WordPunctTokenizer().tokenize\n",
        "  tokens = nltk_tokenizer(text)\n",
        "  result = \" \".join([i for i in tokens if not i in stop_words if len(i)>=1])\n",
        "  return result\n",
        "\n",
        "# Cleans a string by applying various pre-processing steps\n",
        "def clean_text(text):\n",
        "  new_text = make_lowercase(text)\n",
        "  new_text = expand_contractions(new_text)\n",
        "  new_text = remove_punct(new_text)\n",
        "#   new_text = remove_numbers(new_text)\n",
        "  return new_text\n",
        "\n",
        "def correct_spelling(text):\n",
        "  new_text = str(TextBlob(text).correct())\n",
        "  return new_text\n",
        "\n",
        "def make_lowercase(text):\n",
        "  new_text = text.lower()\n",
        "  return new_text\n",
        "\n",
        "def expand_contractions(text):\n",
        "  new_text = contractions.fix(text)\n",
        "  return new_text\n",
        "\n",
        "def remove_punct(text):\n",
        "  remove_punct_map = dict.fromkeys(map(ord, string.punctuation))\n",
        "  text.translate(remove_punct_map)\n",
        "  return text\n",
        "\n",
        "def remove_numbers(text):\n",
        "  new_text =re.sub(\"\\d+\", \"\", text)\n",
        "  return new_text"
      ],
      "execution_count": 0,
      "outputs": []
    },
    {
      "cell_type": "code",
      "metadata": {
        "id": "lVUdHXHNuEHd",
        "colab_type": "code",
        "outputId": "5d37301b-c675-46a2-ea21-a34bf7ca3c11",
        "colab": {
          "base_uri": "https://localhost:8080/",
          "height": 34
        }
      },
      "source": [
        ""
      ],
      "execution_count": 0,
      "outputs": [
        {
          "output_type": "stream",
          "text": [
            "<class 'str'>\n"
          ],
          "name": "stdout"
        }
      ]
    },
    {
      "cell_type": "markdown",
      "metadata": {
        "id": "m-iBsBq-W1ph",
        "colab_type": "text"
      },
      "source": [
        "### The very first thing I did was clean the text data \n",
        "\n",
        "After this, we can explore the topics of questions. "
      ]
    },
    {
      "cell_type": "code",
      "metadata": {
        "id": "c1H7y9L-XElP",
        "colab_type": "code",
        "colab": {}
      },
      "source": [
        "# Returns a tokenized form of a string \n",
        "def tokenize(text):\n",
        "  custom_sw = {\"feel\", 'im'}\n",
        "  stop_words = set(stopwords.words(\"english\")).union(custom_sw)\n",
        "  nltk_tokenizer = nltk.WordPunctTokenizer().tokenize\n",
        "  tokens = nltk_tokenizer(text)\n",
        "  result = \" \".join([i for i in tokens if not i in stop_words if len(i)>=1])\n",
        "  return result\n",
        "\n",
        "# Cleans a string by applying various pre-processing steps\n",
        "def clean_text(text):\n",
        "  new_text = make_lowercase(text)\n",
        "  new_text = expand_contractions(new_text)\n",
        "  new_text = remove_punct(new_text)\n",
        "  return new_text\n",
        "\n",
        "def correct_spelling(text):\n",
        "  new_text = str(TextBlob(text).correct())\n",
        "  return new_text\n",
        "\n",
        "def make_lowercase(text):\n",
        "  new_text = text.lower()\n",
        "  return new_text\n",
        "\n",
        "def expand_contractions(text):\n",
        "  new_text = contractions.fix(text)\n",
        "  return new_text\n",
        "\n",
        "def remove_punct(text):\n",
        "  remove_punct_map = dict.fromkeys(map(ord, string.punctuation))\n",
        "  text.translate(remove_punct_map)\n",
        "  return text\n",
        "\n",
        "def remove_numbers(text):\n",
        "  new_text =re.sub(\"\\d+\", \"\", text)\n",
        "  return new_text\n",
        "\n",
        "clear_output()\n",
        "df = pd.DataFrame.from_csv('rship.csv')\n",
        "df.dropna(subset=['title'], inplace=True)\n",
        "documents = df['title']\n",
        "clean_docs = [clean_text(i) for i in documents]\n",
        "clean_docs = [tokenize(i) for i in documents]\n",
        " "
      ],
      "execution_count": 0,
      "outputs": []
    }
  ]
}